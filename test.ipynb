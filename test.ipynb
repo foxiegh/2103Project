{
 "cells": [
  {
   "cell_type": "code",
   "execution_count": null,
   "metadata": {
    "vscode": {
     "languageId": "r"
    }
   },
   "outputs": [],
   "source": [
    "#Loads the required libraries\n",
    "library(\"psych\")\n",
    "library(\"dplyr\")\n",
    "library(\"corrplot\")\n",
    "library(\"Hmisc\")"
   ]
  },
  {
   "cell_type": "code",
   "execution_count": null,
   "metadata": {
    "vscode": {
     "languageId": "r"
    }
   },
   "outputs": [],
   "source": [
    "#Reads the dataset\n",
    "data <- read.table(\"card.csv\",sep=\",\",skip=2,header=FALSE)"
   ]
  },
  {
   "cell_type": "code",
   "execution_count": null,
   "metadata": {
    "vscode": {
     "languageId": "r"
    }
   },
   "outputs": [],
   "source": [
    "#Viewing Structure of data set\n",
    "class(data)\n",
    "glimpse(data)\n",
    "str(data)"
   ]
  },
  {
   "cell_type": "code",
   "execution_count": null,
   "metadata": {
    "vscode": {
     "languageId": "r"
    }
   },
   "outputs": [],
   "source": [
    "#Checking for NA\n",
    "data[!complete.cases(data),]"
   ]
  },
  {
   "cell_type": "code",
   "execution_count": null,
   "metadata": {
    "vscode": {
     "languageId": "r"
    }
   },
   "outputs": [],
   "source": [
    "#Correlation matrix\n",
    "data_onlycat <- subset(data, select = c(c(V3,V4,V5,V7,V8,V9,V10,V11,V12)))\n",
    "corrplot(cor(data_onlycat))"
   ]
  },
  {
   "cell_type": "code",
   "execution_count": null,
   "metadata": {
    "vscode": {
     "languageId": "r"
    }
   },
   "outputs": [],
   "source": [
    "#Replacing values\n",
    "data$V7[data$V7 >2 ]<- 2\n",
    "data$V8[data$V8 >2 ]<- 2\n",
    "data$V9[data$V9 >2 ]<- 2\n",
    "data$V10[data$V10 >2 ]<- 2\n",
    "data$V11[data$V11 >2 ]<- 2\n",
    "data$V12[data$V12 >2 ]<- 2"
   ]
  },
  {
   "cell_type": "code",
   "execution_count": null,
   "metadata": {
    "vscode": {
     "languageId": "r"
    }
   },
   "outputs": [],
   "source": [
    "#Code he gave\n",
    "header <- scan(\"card.csv\",sep=\",\",nlines=2,what=character())\n",
    "set.seed(1234)\n",
    "n = length(data$V1)\n",
    "index <- 1:nrow(data)\n",
    "testindex <- sample(index, trunc(n)/4)\n",
    "test.data <- data[testindex,]\n",
    "train.data <- data[-testindex,]"
   ]
  }
 ],
 "metadata": {
  "kernelspec": {
   "display_name": "R",
   "language": "R",
   "name": "ir"
  },
  "language_info": {
   "codemirror_mode": "r",
   "file_extension": ".r",
   "mimetype": "text/x-r-source",
   "name": "R",
   "pygments_lexer": "r",
   "version": "4.2.1"
  },
  "orig_nbformat": 4
 },
 "nbformat": 4,
 "nbformat_minor": 2
}
