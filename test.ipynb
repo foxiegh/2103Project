{
 "cells": [
  {
   "cell_type": "code",
   "execution_count": 11,
   "metadata": {
    "vscode": {
     "languageId": "r"
    }
   },
   "outputs": [],
   "source": [
    "#Loads the required libraries\n",
    "library(\"psych\")\n",
    "library(\"dplyr\")\n",
    "library(\"corrplot\")\n",
    "library(\"Hmisc\")\n",
    "library(\"ggplot2\")"
   ]
  },
  {
   "cell_type": "code",
   "execution_count": null,
   "metadata": {
    "vscode": {
     "languageId": "r"
    }
   },
   "outputs": [],
   "source": [
    "#Reads the dataset\n",
    "data <- read.table(\"card.csv\",sep=\",\",skip=2,header=FALSE)"
   ]
  },
  {
   "cell_type": "code",
   "execution_count": 10,
   "metadata": {
    "vscode": {
     "languageId": "r"
    }
   },
   "outputs": [
    {
     "name": "stdout",
     "output_type": "stream",
     "text": [
      "Rows: 30,000\n",
      "Columns: 25\n",
      "$ V1  \u001b[3m\u001b[90m<int>\u001b[39m\u001b[23m 1, 2, 3, 4, 5, 6, 7, 8, 9, 10, 11, 12, 13, 14, 15, 16, 17, 18, 19,…\n",
      "$ V2  \u001b[3m\u001b[90m<int>\u001b[39m\u001b[23m 20000, 120000, 90000, 50000, 50000, 50000, 500000, 100000, 140000,…\n",
      "$ V3  \u001b[3m\u001b[90m<int>\u001b[39m\u001b[23m 2, 2, 2, 2, 1, 1, 1, 2, 2, 1, 2, 2, 2, 1, 1, 2, 1, 1, 2, 2, 2, 2, …\n",
      "$ V4  \u001b[3m\u001b[90m<int>\u001b[39m\u001b[23m 2, 2, 2, 2, 2, 1, 1, 2, 3, 3, 3, 1, 2, 2, 1, 3, 1, 1, 1, 1, 3, 2, …\n",
      "$ V5  \u001b[3m\u001b[90m<int>\u001b[39m\u001b[23m 1, 2, 2, 1, 1, 2, 2, 2, 1, 2, 2, 2, 2, 2, 2, 3, 2, 1, 1, 2, 2, 1, …\n",
      "$ V6  \u001b[3m\u001b[90m<int>\u001b[39m\u001b[23m 24, 26, 34, 37, 57, 37, 29, 23, 28, 35, 34, 51, 41, 30, 29, 23, 24…\n",
      "$ V7  \u001b[3m\u001b[90m<dbl>\u001b[39m\u001b[23m 2, -1, 0, 0, -1, 0, 0, 0, 0, -2, 0, -1, -1, 1, 0, 1, 0, 0, 1, 1, 0…\n",
      "$ V8  \u001b[3m\u001b[90m<dbl>\u001b[39m\u001b[23m 2, 2, 0, 0, 0, 0, 0, -1, 0, -2, 0, -1, 0, 2, 0, 2, 0, 0, -2, -2, 0…\n",
      "$ V9  \u001b[3m\u001b[90m<dbl>\u001b[39m\u001b[23m -1, 0, 0, 0, -1, 0, 0, -1, 2, -2, 2, -1, -1, 2, 0, 0, 2, 0, -2, -2…\n",
      "$ V10 \u001b[3m\u001b[90m<dbl>\u001b[39m\u001b[23m -1, 0, 0, 0, 0, 0, 0, 0, 0, -2, 0, -1, -1, 0, 0, 0, 2, -1, -2, -2,…\n",
      "$ V11 \u001b[3m\u001b[90m<dbl>\u001b[39m\u001b[23m -2, 0, 0, 0, 0, 0, 0, 0, 0, -1, 0, -1, -1, 0, 0, 0, 2, -1, -2, -2,…\n",
      "$ V12 \u001b[3m\u001b[90m<dbl>\u001b[39m\u001b[23m -2, 2, 0, 0, 0, 0, 0, -1, 0, -1, -1, 2, -1, 2, 0, 0, 2, -1, -2, -2…\n",
      "$ V13 \u001b[3m\u001b[90m<int>\u001b[39m\u001b[23m 3913, 2682, 29239, 46990, 8617, 64400, 367965, 11876, 11285, 0, 11…\n",
      "$ V14 \u001b[3m\u001b[90m<int>\u001b[39m\u001b[23m 3102, 1725, 14027, 48233, 5670, 57069, 412023, 380, 14096, 0, 9787…\n",
      "$ V15 \u001b[3m\u001b[90m<int>\u001b[39m\u001b[23m 689, 2682, 13559, 49291, 35835, 57608, 445007, 601, 12108, 0, 5535…\n",
      "$ V16 \u001b[3m\u001b[90m<int>\u001b[39m\u001b[23m 0, 3272, 14331, 28314, 20940, 19394, 542653, 221, 12211, 0, 2513, …\n",
      "$ V17 \u001b[3m\u001b[90m<int>\u001b[39m\u001b[23m 0, 3455, 14948, 28959, 19146, 19619, 483003, -159, 11793, 13007, 1…\n",
      "$ V18 \u001b[3m\u001b[90m<int>\u001b[39m\u001b[23m 0, 3261, 15549, 29547, 19131, 20024, 473944, 567, 3719, 13912, 373…\n",
      "$ V19 \u001b[3m\u001b[90m<int>\u001b[39m\u001b[23m 0, 0, 1518, 2000, 2000, 2500, 55000, 380, 3329, 0, 2306, 21818, 10…\n",
      "$ V20 \u001b[3m\u001b[90m<int>\u001b[39m\u001b[23m 689, 1000, 1500, 2019, 36681, 1815, 40000, 601, 0, 0, 12, 9966, 65…\n",
      "$ V21 \u001b[3m\u001b[90m<int>\u001b[39m\u001b[23m 0, 1000, 1000, 1200, 10000, 657, 38000, 0, 432, 0, 50, 8583, 6500,…\n",
      "$ V22 \u001b[3m\u001b[90m<int>\u001b[39m\u001b[23m 0, 1000, 1000, 1100, 9000, 1000, 20239, 581, 1000, 13007, 300, 223…\n",
      "$ V23 \u001b[3m\u001b[90m<int>\u001b[39m\u001b[23m 0, 0, 1000, 1069, 689, 1000, 13750, 1687, 1000, 1122, 3738, 0, 287…\n",
      "$ V24 \u001b[3m\u001b[90m<int>\u001b[39m\u001b[23m 0, 2000, 5000, 1000, 679, 800, 13770, 1542, 1000, 0, 66, 3640, 0, …\n",
      "$ V25 \u001b[3m\u001b[90m<int>\u001b[39m\u001b[23m 1, 1, 0, 0, 0, 0, 0, 0, 0, 0, 0, 0, 0, 1, 0, 0, 1, 0, 0, 0, 0, 1, …\n",
      "'data.frame':\t30000 obs. of  25 variables:\n",
      " $ V1 : int  1 2 3 4 5 6 7 8 9 10 ...\n",
      " $ V2 : int  20000 120000 90000 50000 50000 50000 500000 100000 140000 20000 ...\n",
      " $ V3 : int  2 2 2 2 1 1 1 2 2 1 ...\n",
      " $ V4 : int  2 2 2 2 2 1 1 2 3 3 ...\n",
      " $ V5 : int  1 2 2 1 1 2 2 2 1 2 ...\n",
      " $ V6 : int  24 26 34 37 57 37 29 23 28 35 ...\n",
      " $ V7 : num  2 -1 0 0 -1 0 0 0 0 -2 ...\n",
      " $ V8 : num  2 2 0 0 0 0 0 -1 0 -2 ...\n",
      " $ V9 : num  -1 0 0 0 -1 0 0 -1 2 -2 ...\n",
      " $ V10: num  -1 0 0 0 0 0 0 0 0 -2 ...\n",
      " $ V11: num  -2 0 0 0 0 0 0 0 0 -1 ...\n",
      " $ V12: num  -2 2 0 0 0 0 0 -1 0 -1 ...\n",
      " $ V13: int  3913 2682 29239 46990 8617 64400 367965 11876 11285 0 ...\n",
      " $ V14: int  3102 1725 14027 48233 5670 57069 412023 380 14096 0 ...\n",
      " $ V15: int  689 2682 13559 49291 35835 57608 445007 601 12108 0 ...\n",
      " $ V16: int  0 3272 14331 28314 20940 19394 542653 221 12211 0 ...\n",
      " $ V17: int  0 3455 14948 28959 19146 19619 483003 -159 11793 13007 ...\n",
      " $ V18: int  0 3261 15549 29547 19131 20024 473944 567 3719 13912 ...\n",
      " $ V19: int  0 0 1518 2000 2000 2500 55000 380 3329 0 ...\n",
      " $ V20: int  689 1000 1500 2019 36681 1815 40000 601 0 0 ...\n",
      " $ V21: int  0 1000 1000 1200 10000 657 38000 0 432 0 ...\n",
      " $ V22: int  0 1000 1000 1100 9000 1000 20239 581 1000 13007 ...\n",
      " $ V23: int  0 0 1000 1069 689 1000 13750 1687 1000 1122 ...\n",
      " $ V24: int  0 2000 5000 1000 679 800 13770 1542 1000 0 ...\n",
      " $ V25: int  1 1 0 0 0 0 0 0 0 0 ...\n"
     ]
    }
   ],
   "source": [
    "#Viewing Structure of data set\n",
    "#class(data)\n",
    "glimpse(data)\n",
    "str(data)"
   ]
  },
  {
   "cell_type": "code",
   "execution_count": 17,
   "metadata": {
    "vscode": {
     "languageId": "r"
    }
   },
   "outputs": [],
   "source": [
    "data_default <- data%>%filter(V25 == 1)\n",
    "\n",
    "data_noDefault <- data%>%filter(V25 == 0)"
   ]
  },
  {
   "cell_type": "code",
   "execution_count": 27,
   "metadata": {
    "vscode": {
     "languageId": "r"
    }
   },
   "outputs": [
    {
     "data": {
      "text/plain": [
       "\n",
       "    0     1 \n",
       "23364  6636 "
      ]
     },
     "metadata": {},
     "output_type": "display_data"
    },
    {
     "data": {
      "text/html": [
       "130109.65641953"
      ],
      "text/latex": [
       "130109.65641953"
      ],
      "text/markdown": [
       "130109.65641953"
      ],
      "text/plain": [
       "[1] 130109.7"
      ]
     },
     "metadata": {},
     "output_type": "display_data"
    },
    {
     "data": {
      "text/html": [
       "35.7257383966245"
      ],
      "text/latex": [
       "35.7257383966245"
      ],
      "text/markdown": [
       "35.7257383966245"
      ],
      "text/plain": [
       "[1] 35.72574"
      ]
     },
     "metadata": {},
     "output_type": "display_data"
    },
    {
     "data": {
      "image/png": "[encoded data removed]",
      "text/plain": [
       "Plot with title \"Histogram of data_default$V4\""
      ]
     },
     "metadata": {
      "image/png": {
       "height": 420,
       "width": 420
      }
     },
     "output_type": "display_data"
    }
   ],
   "source": [
    "table(data$V25)\n",
    "\n",
    "hist(data_default$V4)\n",
    "\n",
    "mean(data_default$V2)\n",
    "\n",
    "mean(data_default$V6)"
   ]
  },
  {
   "cell_type": "code",
   "execution_count": 26,
   "metadata": {
    "vscode": {
     "languageId": "r"
    }
   },
   "outputs": [
    {
     "data": {
      "text/html": [
       "35.4172658791303"
      ],
      "text/latex": [
       "35.4172658791303"
      ],
      "text/markdown": [
       "35.4172658791303"
      ],
      "text/plain": [
       "[1] 35.41727"
      ]
     },
     "metadata": {},
     "output_type": "display_data"
    },
    {
     "data": {
      "text/html": [
       "178099.726074302"
      ],
      "text/latex": [
       "178099.726074302"
      ],
      "text/markdown": [
       "178099.726074302"
      ],
      "text/plain": [
       "[1] 178099.7"
      ]
     },
     "metadata": {},
     "output_type": "display_data"
    },
    {
     "data": {
      "image/png": "[encoded data removed]",
      "text/plain": [
       "Plot with title \"Histogram of data_noDefault$V4\""
      ]
     },
     "metadata": {
      "image/png": {
       "height": 420,
       "width": 420
      }
     },
     "output_type": "display_data"
    }
   ],
   "source": [
    "mean(data_noDefault$V6)\n",
    "\n",
    "mean(data_noDefault$V2)\n",
    "\n",
    "hist(data_noDefault$V4)"
   ]
  },
  {
   "cell_type": "code",
   "execution_count": null,
   "metadata": {
    "vscode": {
     "languageId": "r"
    }
   },
   "outputs": [],
   "source": [
    "#Checking for NA\n",
    "data[!complete.cases(data),]"
   ]
  },
  {
   "cell_type": "code",
   "execution_count": null,
   "metadata": {
    "vscode": {
     "languageId": "r"
    }
   },
   "outputs": [],
   "source": [
    "#Correlation matrix\n",
    "data_onlycat <- subset(data, select = c(c(V3,V4,V5,V7,V8,V9,V10,V11,V12)))\n",
    "corrplot(cor(data_onlycat))"
   ]
  },
  {
   "cell_type": "code",
   "execution_count": null,
   "metadata": {
    "vscode": {
     "languageId": "r"
    }
   },
   "outputs": [],
   "source": [
    "#Replacing values\n",
    "data$V7[data$V7 >2 ]<- 2\n",
    "data$V8[data$V8 >2 ]<- 2\n",
    "data$V9[data$V9 >2 ]<- 2\n",
    "data$V10[data$V10 >2 ]<- 2\n",
    "data$V11[data$V11 >2 ]<- 2\n",
    "data$V12[data$V12 >2 ]<- 2"
   ]
  },
  {
   "cell_type": "code",
   "execution_count": null,
   "metadata": {
    "vscode": {
     "languageId": "r"
    }
   },
   "outputs": [],
   "source": [
    "#Code he gave\n",
    "header <- scan(\"card.csv\",sep=\",\",nlines=2,what=character())\n",
    "set.seed(1234)\n",
    "n = length(data$V1)\n",
    "index <- 1:nrow(data)\n",
    "testindex <- sample(index, trunc(n)/4)\n",
    "test.data <- data[testindex,]\n",
    "train.data <- data[-testindex,]"
   ]
  }
 ],
 "metadata": {
  "kernelspec": {
   "display_name": "R",
   "language": "R",
   "name": "ir"
  },
  "language_info": {
   "codemirror_mode": "r",
   "file_extension": ".r",
   "mimetype": "text/x-r-source",
   "name": "R",
   "pygments_lexer": "r",
   "version": "4.2.1"
  },
  "orig_nbformat": 4
 },
 "nbformat": 4,
 "nbformat_minor": 2
}
